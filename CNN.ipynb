{
  "nbformat": 4,
  "nbformat_minor": 0,
  "metadata": {
    "colab": {
      "name": "CNN.ipynb",
      "version": "0.3.2",
      "views": {},
      "default_view": {},
      "provenance": []
    },
    "kernelspec": {
      "name": "python3",
      "display_name": "Python 3"
    }
  },
  "cells": [
    {
      "metadata": {
        "id": "-YibpL3v8Sf8",
        "colab_type": "code",
        "colab": {
          "autoexec": {
            "startup": false,
            "wait_interval": 0
          }
        }
      },
      "cell_type": "code",
      "source": [
        "import numpy as np\n",
        "import pandas as pd\n",
        "import pickle\n",
        "from collections import defaultdict\n",
        "import re\n",
        "from bs4 import BeautifulSoup\n",
        "import sys\n",
        "import os\n",
        "os.environ['KERAS_BACKEND']='theano' # Why theano why not\n",
        "from keras.preprocessing.text import Tokenizer\n",
        "from keras.preprocessing.sequence import pad_sequences\n",
        "from keras.utils.np_utils import to_categorical\n",
        "from keras.layers import Embedding\n",
        "from keras.layers import Dense, Input, Flatten\n",
        "from keras.layers import Conv1D, MaxPooling1D, Embedding, Dropout\n",
        "from keras.models import Model\n",
        "from keras.callbacks import ModelCheckpoint\n",
        "import matplotlib.pyplot as plt\n",
        "plt.switch_backend('agg')\n",
        "%matplotlib inline"
      ],
      "execution_count": 0,
      "outputs": []
    },
    {
      "metadata": {
        "id": "n8z5XNCd99Vt",
        "colab_type": "code",
        "colab": {
          "autoexec": {
            "startup": false,
            "wait_interval": 0
          }
        }
      },
      "cell_type": "code",
      "source": [
        "def clean_str(string):\n",
        "    string = re.sub(r\"\\\\\", \"\", string)\n",
        "    string = re.sub(r\"\\'\", \"\", string)\n",
        "    string = re.sub(r\"\\\"\", \"\", string)\n",
        "    return string.strip().lower()"
      ],
      "execution_count": 0,
      "outputs": []
    },
    {
      "metadata": {
        "id": "LG-0Ij2V-Bjl",
        "colab_type": "code",
        "colab": {
          "autoexec": {
            "startup": false,
            "wait_interval": 0
          }
        }
      },
      "cell_type": "code",
      "source": [
        "MAX_SEQUENCE_LENGTH = 1000\n",
        "MAX_NB_WORDS = 20000\n",
        "EMBEDDING_DIM = 100\n",
        "VALIDATION_SPLIT = 0.2"
      ],
      "execution_count": 0,
      "outputs": []
    },
    {
      "metadata": {
        "id": "xU-Gzp5X-G0_",
        "colab_type": "code",
        "colab": {
          "autoexec": {
            "startup": false,
            "wait_interval": 0
          },
          "base_uri": "https://localhost:8080/",
          "height": 68
        },
        "outputId": "d4a47aee-ee55-4685-9e09-93f603ab68b8",
        "executionInfo": {
          "status": "ok",
          "timestamp": 1530788057022,
          "user_tz": -330,
          "elapsed": 1219,
          "user": {
            "displayName": "Akshat Maheshwari",
            "photoUrl": "//lh5.googleusercontent.com/-f-xJkriVoaI/AAAAAAAAAAI/AAAAAAAAAVQ/TLGa4qObGgQ/s50-c-k-no/photo.jpg",
            "userId": "114426356464940466000"
          }
        }
      },
      "cell_type": "code",
      "source": [
        "# reading data\n",
        "df = pd.read_excel('dataset.xlsx')\n",
        "df = df.dropna()\n",
        "df = df.reset_index(drop=True)\n",
        "print('Shape of dataset ',df.shape)\n",
        "print(df.columns)\n",
        "print('No. of unique classes',len(set(df['class'])))"
      ],
      "execution_count": 74,
      "outputs": [
        {
          "output_type": "stream",
          "text": [
            "Shape of dataset  (100, 2)\n",
            "Index(['message', 'class'], dtype='object')\n",
            "No. of unique classes 17\n"
          ],
          "name": "stdout"
        }
      ]
    },
    {
      "metadata": {
        "id": "yTg_bT92-Lmu",
        "colab_type": "code",
        "colab": {
          "autoexec": {
            "startup": false,
            "wait_interval": 0
          }
        }
      },
      "cell_type": "code",
      "source": [
        "macronum=sorted(set(df['class']))\n",
        "macro_to_id = dict((note, number) for number, note in enumerate(macronum))\n",
        "\n",
        "def fun(i):\n",
        "    return macro_to_id[i]\n",
        "\n",
        "df['class']=df['class'].apply(fun)"
      ],
      "execution_count": 0,
      "outputs": []
    },
    {
      "metadata": {
        "id": "1iuuRu3z-dUl",
        "colab_type": "code",
        "colab": {
          "autoexec": {
            "startup": false,
            "wait_interval": 0
          },
          "base_uri": "https://localhost:8080/",
          "height": 224
        },
        "outputId": "556dd53b-d66d-4a17-f0d6-2c50de94c13f",
        "executionInfo": {
          "status": "ok",
          "timestamp": 1530788064257,
          "user_tz": -330,
          "elapsed": 1064,
          "user": {
            "displayName": "Akshat Maheshwari",
            "photoUrl": "//lh5.googleusercontent.com/-f-xJkriVoaI/AAAAAAAAAAI/AAAAAAAAAVQ/TLGa4qObGgQ/s50-c-k-no/photo.jpg",
            "userId": "114426356464940466000"
          }
        }
      },
      "cell_type": "code",
      "source": [
        "texts = []\n",
        "labels = []\n",
        "\n",
        "\n",
        "for idx in range(data_train.message.shape[0]):\n",
        "    text = BeautifulSoup(data_train.message[idx])\n",
        "    texts.append(clean_str(str(text.get_text().encode())))\n",
        "\n",
        "for idx in data_train['class']:\n",
        "    labels.append(idx)"
      ],
      "execution_count": 76,
      "outputs": [
        {
          "output_type": "stream",
          "text": [
            "/usr/local/lib/python3.6/dist-packages/bs4/__init__.py:181: UserWarning: No parser was explicitly specified, so I'm using the best available HTML parser for this system (\"html5lib\"). This usually isn't a problem, but if you run this code on another system, or in a different virtual environment, it may use a different parser and behave differently.\n",
            "\n",
            "The code that caused this warning is on line 193 of the file /usr/lib/python3.6/runpy.py. To get rid of this warning, change code that looks like this:\n",
            "\n",
            " BeautifulSoup(YOUR_MARKUP})\n",
            "\n",
            "to this:\n",
            "\n",
            " BeautifulSoup(YOUR_MARKUP, \"html5lib\")\n",
            "\n",
            "  markup_type=markup_type))\n"
          ],
          "name": "stderr"
        }
      ]
    },
    {
      "metadata": {
        "id": "UybzQTeT-jGj",
        "colab_type": "code",
        "colab": {
          "autoexec": {
            "startup": false,
            "wait_interval": 0
          },
          "base_uri": "https://localhost:8080/",
          "height": 34
        },
        "outputId": "fee861a5-5673-4b6e-ccd7-f08ccdebf76c",
        "executionInfo": {
          "status": "ok",
          "timestamp": 1530788068659,
          "user_tz": -330,
          "elapsed": 1410,
          "user": {
            "displayName": "Akshat Maheshwari",
            "photoUrl": "//lh5.googleusercontent.com/-f-xJkriVoaI/AAAAAAAAAAI/AAAAAAAAAVQ/TLGa4qObGgQ/s50-c-k-no/photo.jpg",
            "userId": "114426356464940466000"
          }
        }
      },
      "cell_type": "code",
      "source": [
        "tokenizer = Tokenizer(num_words=MAX_NB_WORDS)\n",
        "tokenizer.fit_on_texts(texts)\n",
        "sequences = tokenizer.texts_to_sequences(texts)\n",
        "\n",
        "word_index = tokenizer.word_index\n",
        "print('Number of Unique Tokens',len(word_index))"
      ],
      "execution_count": 77,
      "outputs": [
        {
          "output_type": "stream",
          "text": [
            "Number of Unique Tokens 932\n"
          ],
          "name": "stdout"
        }
      ]
    },
    {
      "metadata": {
        "id": "lammuHZ3-puo",
        "colab_type": "code",
        "colab": {
          "autoexec": {
            "startup": false,
            "wait_interval": 0
          },
          "base_uri": "https://localhost:8080/",
          "height": 51
        },
        "outputId": "3ac2e35b-2ab4-48ab-aab8-2253748e9270",
        "executionInfo": {
          "status": "ok",
          "timestamp": 1530788073777,
          "user_tz": -330,
          "elapsed": 1190,
          "user": {
            "displayName": "Akshat Maheshwari",
            "photoUrl": "//lh5.googleusercontent.com/-f-xJkriVoaI/AAAAAAAAAAI/AAAAAAAAAVQ/TLGa4qObGgQ/s50-c-k-no/photo.jpg",
            "userId": "114426356464940466000"
          }
        }
      },
      "cell_type": "code",
      "source": [
        "data = pad_sequences(sequences, maxlen=MAX_SEQUENCE_LENGTH)\n",
        "\n",
        "labels = to_categorical(np.asarray(labels))\n",
        "print('Shape of Data Tensor:', data.shape)\n",
        "print('Shape of Label Tensor:', labels.shape)\n",
        "\n",
        "indices = np.arange(data.shape[0])\n",
        "np.random.shuffle(indices)\n",
        "data = data[indices]\n",
        "labels = labels[indices]\n",
        "nb_validation_samples = int(VALIDATION_SPLIT * data.shape[0])\n",
        "\n",
        "x_train = data[:-nb_validation_samples]\n",
        "y_train = labels[:-nb_validation_samples]\n",
        "x_val = data[-nb_validation_samples:]\n",
        "y_val = labels[-nb_validation_samples:]"
      ],
      "execution_count": 78,
      "outputs": [
        {
          "output_type": "stream",
          "text": [
            "Shape of Data Tensor: (100, 1000)\n",
            "Shape of Label Tensor: (100, 17)\n"
          ],
          "name": "stdout"
        }
      ]
    },
    {
      "metadata": {
        "id": "1cia1lKp8YN2",
        "colab_type": "code",
        "colab": {
          "autoexec": {
            "startup": false,
            "wait_interval": 0
          },
          "base_uri": "https://localhost:8080/",
          "height": 34
        },
        "outputId": "ddd4e1b5-a416-484d-8580-86816aeff61d",
        "executionInfo": {
          "status": "ok",
          "timestamp": 1530788092979,
          "user_tz": -330,
          "elapsed": 12325,
          "user": {
            "displayName": "Akshat Maheshwari",
            "photoUrl": "//lh5.googleusercontent.com/-f-xJkriVoaI/AAAAAAAAAAI/AAAAAAAAAVQ/TLGa4qObGgQ/s50-c-k-no/photo.jpg",
            "userId": "114426356464940466000"
          }
        }
      },
      "cell_type": "code",
      "source": [
        "embeddings_index = {}\n",
        "f = open('glove.6B.100d.txt',encoding='utf8')\n",
        "for line in f:\n",
        "    values = line.split()\n",
        "    word = values[0]\n",
        "    coefs = np.asarray(values[1:], dtype='float32')\n",
        "    embeddings_index[word] = coefs\n",
        "f.close()\n",
        "\n",
        "print('Total %s word vectors in Glove 6B 100d.' % len(embeddings_index))"
      ],
      "execution_count": 79,
      "outputs": [
        {
          "output_type": "stream",
          "text": [
            "Total 400000 word vectors in Glove 6B 100d.\n"
          ],
          "name": "stdout"
        }
      ]
    },
    {
      "metadata": {
        "id": "mvbOk28C-ywX",
        "colab_type": "code",
        "colab": {
          "autoexec": {
            "startup": false,
            "wait_interval": 0
          }
        }
      },
      "cell_type": "code",
      "source": [
        "embedding_matrix = np.random.random((len(word_index) + 1, EMBEDDING_DIM))\n",
        "for word, i in word_index.items():\n",
        "    embedding_vector = embeddings_index.get(word)\n",
        "    if embedding_vector is not None:\n",
        "        # words not found in embedding index will be all-zeros.\n",
        "        embedding_matrix[i] = embedding_vector\n",
        "\n",
        "embedding_layer = Embedding(len(word_index) + 1,\n",
        "                            EMBEDDING_DIM,weights=[embedding_matrix],\n",
        "                            input_length=MAX_SEQUENCE_LENGTH,trainable=True)"
      ],
      "execution_count": 0,
      "outputs": []
    },
    {
      "metadata": {
        "id": "WWAEbYKN-5dL",
        "colab_type": "code",
        "colab": {
          "autoexec": {
            "startup": false,
            "wait_interval": 0
          },
          "base_uri": "https://localhost:8080/",
          "height": 527
        },
        "outputId": "c4bebdf8-16e0-4982-b524-c90ee3f05173",
        "executionInfo": {
          "status": "ok",
          "timestamp": 1530788208818,
          "user_tz": -330,
          "elapsed": 1926,
          "user": {
            "displayName": "Akshat Maheshwari",
            "photoUrl": "//lh5.googleusercontent.com/-f-xJkriVoaI/AAAAAAAAAAI/AAAAAAAAAVQ/TLGa4qObGgQ/s50-c-k-no/photo.jpg",
            "userId": "114426356464940466000"
          }
        }
      },
      "cell_type": "code",
      "source": [
        "sequence_input = Input(shape=(MAX_SEQUENCE_LENGTH,), dtype='int32')\n",
        "embedded_sequences = embedding_layer(sequence_input)\n",
        "l_cov1= Conv1D(128, 5, activation='relu')(embedded_sequences)\n",
        "l_pool1 = MaxPooling1D(5)(l_cov1)\n",
        "l_cov2 = Conv1D(128, 5, activation='relu')(l_pool1)\n",
        "l_pool2 = MaxPooling1D(5)(l_cov2)\n",
        "l_cov3 = Conv1D(128, 5, activation='relu')(l_pool2)\n",
        "l_pool3 = MaxPooling1D(35)(l_cov3)  # global max pooling\n",
        "l_flat = Flatten()(l_pool3)\n",
        "l_dense = Dense(128, activation='relu')(l_flat)\n",
        "preds = Dense(len(macronum), activation='softmax')(l_dense)\n",
        "\n",
        "model = Model(sequence_input, preds)\n",
        "model.compile(loss='categorical_crossentropy',\n",
        "              optimizer='rmsprop',\n",
        "              metrics=['acc'])\n",
        "\n",
        "print(\"Simplified convolutional neural network\")\n",
        "model.summary()\n",
        "cp=ModelCheckpoint('model_cnn.hdf5',monitor='val_acc',verbose=1,save_best_only=True)"
      ],
      "execution_count": 80,
      "outputs": [
        {
          "output_type": "stream",
          "text": [
            "Simplified convolutional neural network\n",
            "_________________________________________________________________\n",
            "Layer (type)                 Output Shape              Param #   \n",
            "=================================================================\n",
            "input_4 (InputLayer)         (None, 1000)              0         \n",
            "_________________________________________________________________\n",
            "embedding_1 (Embedding)      (None, 1000, 100)         93300     \n",
            "_________________________________________________________________\n",
            "conv1d_10 (Conv1D)           (None, 996, 128)          64128     \n",
            "_________________________________________________________________\n",
            "max_pooling1d_10 (MaxPooling (None, 199, 128)          0         \n",
            "_________________________________________________________________\n",
            "conv1d_11 (Conv1D)           (None, 195, 128)          82048     \n",
            "_________________________________________________________________\n",
            "max_pooling1d_11 (MaxPooling (None, 39, 128)           0         \n",
            "_________________________________________________________________\n",
            "conv1d_12 (Conv1D)           (None, 35, 128)           82048     \n",
            "_________________________________________________________________\n",
            "max_pooling1d_12 (MaxPooling (None, 1, 128)            0         \n",
            "_________________________________________________________________\n",
            "flatten_4 (Flatten)          (None, 128)               0         \n",
            "_________________________________________________________________\n",
            "dense_7 (Dense)              (None, 128)               16512     \n",
            "_________________________________________________________________\n",
            "dense_8 (Dense)              (None, 17)                2193      \n",
            "=================================================================\n",
            "Total params: 340,229\n",
            "Trainable params: 340,229\n",
            "Non-trainable params: 0\n",
            "_________________________________________________________________\n"
          ],
          "name": "stdout"
        }
      ]
    },
    {
      "metadata": {
        "id": "GET42RUmCG1s",
        "colab_type": "code",
        "colab": {
          "autoexec": {
            "startup": false,
            "wait_interval": 0
          },
          "base_uri": "https://localhost:8080/",
          "height": 1074
        },
        "outputId": "c85f9471-8081-404f-abfc-528e9dfaceab",
        "executionInfo": {
          "status": "ok",
          "timestamp": 1530787445619,
          "user_tz": -330,
          "elapsed": 63069,
          "user": {
            "displayName": "Akshat Maheshwari",
            "photoUrl": "//lh5.googleusercontent.com/-f-xJkriVoaI/AAAAAAAAAAI/AAAAAAAAAVQ/TLGa4qObGgQ/s50-c-k-no/photo.jpg",
            "userId": "114426356464940466000"
          }
        }
      },
      "cell_type": "code",
      "source": [
        "history=model.fit(x_train, y_train, validation_data=(x_val, y_val),epochs=15, batch_size=2,callbacks=[cp])"
      ],
      "execution_count": 62,
      "outputs": [
        {
          "output_type": "stream",
          "text": [
            "Train on 80 samples, validate on 20 samples\n",
            "Epoch 1/15\n",
            "80/80 [==============================] - 4s 49ms/step - loss: 2.6623 - acc: 0.2500 - val_loss: 2.3584 - val_acc: 0.2500\n",
            "\n",
            "Epoch 00001: val_acc improved from -inf to 0.25000, saving model to model_cnn.hdf5\n",
            "Epoch 2/15\n",
            "80/80 [==============================] - 4s 50ms/step - loss: 1.9873 - acc: 0.4375 - val_loss: 1.8733 - val_acc: 0.4500\n",
            "\n",
            "Epoch 00002: val_acc improved from 0.25000 to 0.45000, saving model to model_cnn.hdf5\n",
            "Epoch 3/15\n",
            "80/80 [==============================] - 4s 50ms/step - loss: 1.2715 - acc: 0.6625 - val_loss: 1.4019 - val_acc: 0.6500\n",
            "\n",
            "Epoch 00003: val_acc improved from 0.45000 to 0.65000, saving model to model_cnn.hdf5\n",
            "Epoch 4/15\n",
            "80/80 [==============================] - 4s 49ms/step - loss: 0.9800 - acc: 0.7250 - val_loss: 1.5273 - val_acc: 0.6500\n",
            "\n",
            "Epoch 00004: val_acc did not improve from 0.65000\n",
            "Epoch 5/15\n",
            "54/80 [===================>..........] - ETA: 1s - loss: 0.7271 - acc: 0.8333"
          ],
          "name": "stdout"
        },
        {
          "output_type": "stream",
          "text": [
            "80/80 [==============================] - 4s 50ms/step - loss: 0.7497 - acc: 0.8250 - val_loss: 1.1414 - val_acc: 0.6500\n",
            "\n",
            "Epoch 00005: val_acc did not improve from 0.65000\n",
            "Epoch 6/15\n",
            "80/80 [==============================] - 4s 49ms/step - loss: 0.6599 - acc: 0.8500 - val_loss: 1.2248 - val_acc: 0.6500\n",
            "\n",
            "Epoch 00006: val_acc did not improve from 0.65000\n",
            "Epoch 7/15\n",
            "80/80 [==============================] - 4s 50ms/step - loss: 0.5452 - acc: 0.8875 - val_loss: 1.1178 - val_acc: 0.7000\n",
            "\n",
            "Epoch 00007: val_acc improved from 0.65000 to 0.70000, saving model to model_cnn.hdf5\n",
            "Epoch 8/15\n",
            "80/80 [==============================] - 4s 49ms/step - loss: 0.4755 - acc: 0.8625 - val_loss: 1.0355 - val_acc: 0.7500\n",
            "\n",
            "Epoch 00008: val_acc improved from 0.70000 to 0.75000, saving model to model_cnn.hdf5\n",
            "Epoch 9/15\n",
            "80/80 [==============================] - 4s 49ms/step - loss: 0.4063 - acc: 0.8750 - val_loss: 1.3590 - val_acc: 0.7000\n",
            "\n",
            "Epoch 00009: val_acc did not improve from 0.75000\n",
            "Epoch 10/15\n",
            "16/80 [=====>........................] - ETA: 2s - loss: 1.1223 - acc: 0.8750"
          ],
          "name": "stdout"
        },
        {
          "output_type": "stream",
          "text": [
            "80/80 [==============================] - 4s 49ms/step - loss: 0.4028 - acc: 0.9250 - val_loss: 1.2219 - val_acc: 0.8000\n",
            "\n",
            "Epoch 00010: val_acc improved from 0.75000 to 0.80000, saving model to model_cnn.hdf5\n",
            "Epoch 11/15\n",
            "80/80 [==============================] - 4s 49ms/step - loss: 0.4737 - acc: 0.8875 - val_loss: 1.1734 - val_acc: 0.8000\n",
            "\n",
            "Epoch 00011: val_acc did not improve from 0.80000\n",
            "Epoch 12/15\n",
            "80/80 [==============================] - 4s 49ms/step - loss: 0.2344 - acc: 0.9250 - val_loss: 1.3924 - val_acc: 0.8000\n",
            "\n",
            "Epoch 00012: val_acc did not improve from 0.80000\n",
            "Epoch 13/15\n",
            "80/80 [==============================] - 4s 50ms/step - loss: 0.1823 - acc: 0.9750 - val_loss: 1.7238 - val_acc: 0.8000\n",
            "\n",
            "Epoch 00013: val_acc did not improve from 0.80000\n",
            "Epoch 14/15\n",
            "80/80 [==============================] - 4s 49ms/step - loss: 0.4431 - acc: 0.9375 - val_loss: 1.4792 - val_acc: 0.8000\n",
            "\n",
            "Epoch 00014: val_acc did not improve from 0.80000\n",
            "Epoch 15/15\n",
            "10/80 [==>...........................] - ETA: 3s - loss: 0.1110 - acc: 0.9000"
          ],
          "name": "stdout"
        },
        {
          "output_type": "stream",
          "text": [
            "80/80 [==============================] - 4s 49ms/step - loss: 0.1814 - acc: 0.9250 - val_loss: 1.5112 - val_acc: 0.8000\n",
            "\n",
            "Epoch 00015: val_acc did not improve from 0.80000\n"
          ],
          "name": "stdout"
        }
      ]
    },
    {
      "metadata": {
        "id": "Hw6nPvUG_js0",
        "colab_type": "code",
        "colab": {
          "autoexec": {
            "startup": false,
            "wait_interval": 0
          },
          "base_uri": "https://localhost:8080/",
          "height": 302
        },
        "outputId": "f9404a8a-f642-427f-c252-172d2f1d8036",
        "executionInfo": {
          "status": "ok",
          "timestamp": 1530787456262,
          "user_tz": -330,
          "elapsed": 1410,
          "user": {
            "displayName": "Akshat Maheshwari",
            "photoUrl": "//lh5.googleusercontent.com/-f-xJkriVoaI/AAAAAAAAAAI/AAAAAAAAAVQ/TLGa4qObGgQ/s50-c-k-no/photo.jpg",
            "userId": "114426356464940466000"
          }
        }
      },
      "cell_type": "code",
      "source": [
        "fig1 = plt.figure()\n",
        "plt.plot(history.history['loss'],'r',linewidth=3.0)\n",
        "plt.plot(history.history['val_loss'],'b',linewidth=3.0)\n",
        "plt.legend(['Training loss', 'Validation Loss'],fontsize=18)\n",
        "plt.xlabel('Epochs ',fontsize=16)\n",
        "plt.ylabel('Loss',fontsize=16)\n",
        "plt.title('Loss Curves :CNN',fontsize=16)\n",
        "fig1.savefig('loss_cnn.png')\n",
        "plt.show()"
      ],
      "execution_count": 63,
      "outputs": [
        {
          "output_type": "display_data",
          "data": {
            "image/png": "[encoded data removed]",
            "text/plain": [
              "<matplotlib.figure.Figure at 0x7fa600e750f0>"
            ]
          },
          "metadata": {
            "tags": []
          }
        }
      ]
    },
    {
      "metadata": {
        "id": "akd1Jx2a_kbh",
        "colab_type": "code",
        "colab": {
          "autoexec": {
            "startup": false,
            "wait_interval": 0
          },
          "base_uri": "https://localhost:8080/",
          "height": 302
        },
        "outputId": "8807113d-cb58-463b-b2cf-71a8cb6abe99",
        "executionInfo": {
          "status": "ok",
          "timestamp": 1530787460989,
          "user_tz": -330,
          "elapsed": 1312,
          "user": {
            "displayName": "Akshat Maheshwari",
            "photoUrl": "//lh5.googleusercontent.com/-f-xJkriVoaI/AAAAAAAAAAI/AAAAAAAAAVQ/TLGa4qObGgQ/s50-c-k-no/photo.jpg",
            "userId": "114426356464940466000"
          }
        }
      },
      "cell_type": "code",
      "source": [
        "fig2=plt.figure()\n",
        "plt.plot(history.history['acc'],'r',linewidth=3.0)\n",
        "plt.plot(history.history['val_acc'],'b',linewidth=3.0)\n",
        "plt.legend(['Training Accuracy', 'Validation Accuracy'],fontsize=18)\n",
        "plt.xlabel('Epochs ',fontsize=16)\n",
        "plt.ylabel('Accuracy',fontsize=16)\n",
        "plt.title('Accuracy Curves : CNN',fontsize=16)\n",
        "fig2.savefig('accuracy_cnn.png')\n",
        "plt.show()"
      ],
      "execution_count": 64,
      "outputs": [
        {
          "output_type": "display_data",
          "data": {
            "image/png": "[encoded data removed]",
            "text/plain": [
              "<matplotlib.figure.Figure at 0x7fa600eac278>"
            ]
          },
          "metadata": {
            "tags": []
          }
        }
      ]
    }
  ]
}